{
  "nbformat": 4,
  "nbformat_minor": 0,
  "metadata": {
    "colab": {
      "provenance": []
    },
    "kernelspec": {
      "name": "python3",
      "display_name": "Python 3"
    },
    "language_info": {
      "name": "python"
    }
  },
  "cells": [
    {
      "cell_type": "markdown",
      "source": [
        "TASK 1"
      ],
      "metadata": {
        "id": "FRJq3kAi92IB"
      }
    },
    {
      "cell_type": "code",
      "execution_count": 1,
      "metadata": {
        "colab": {
          "base_uri": "https://localhost:8080/"
        },
        "id": "UXRnBYlG9wGH",
        "outputId": "36af8688-c840-4b63-c059-f73a4e2f8338"
      },
      "outputs": [
        {
          "output_type": "stream",
          "name": "stdout",
          "text": [
            "Collecting robotexclusionrulesparser\n",
            "  Downloading robotexclusionrulesparser-1.7.1.tar.gz (31 kB)\n",
            "  Preparing metadata (setup.py) ... \u001b[?25l\u001b[?25hdone\n",
            "Building wheels for collected packages: robotexclusionrulesparser\n",
            "  Building wheel for robotexclusionrulesparser (setup.py) ... \u001b[?25l\u001b[?25hdone\n",
            "  Created wheel for robotexclusionrulesparser: filename=robotexclusionrulesparser-1.7.1-py3-none-any.whl size=12056 sha256=04feca7ef1f8137f604c670eb99beceb9941cc4332400d5bcfa5cb913c9405c3\n",
            "  Stored in directory: /root/.cache/pip/wheels/2a/d6/38/051f91ac3af7f533633f694e6fe3c0de6cb0d493c3fb1d605a\n",
            "Successfully built robotexclusionrulesparser\n",
            "Installing collected packages: robotexclusionrulesparser\n",
            "Successfully installed robotexclusionrulesparser-1.7.1\n"
          ]
        }
      ],
      "source": [
        "pip install robotexclusionrulesparser"
      ]
    },
    {
      "cell_type": "code",
      "source": [
        "import requests\n",
        "from bs4 import BeautifulSoup\n",
        "from urllib.parse import urljoin\n",
        "from robotexclusionrulesparser import RobotExclusionRulesParser\n",
        "import pandas as pd\n",
        "import nltk\n",
        "from nltk.corpus import stopwords\n",
        "from nltk.tokenize import word_tokenize\n",
        "from nltk.stem import PorterStemmer\n",
        "import string\n",
        "import re\n",
        "import pickle\n",
        "import time\n",
        "nltk.download('punkt')\n",
        "nltk.download('stopwords')"
      ],
      "metadata": {
        "colab": {
          "base_uri": "https://localhost:8080/"
        },
        "id": "IGxZ61rvG-WF",
        "outputId": "1c641f8e-9b2a-4557-e8d4-388463832f18"
      },
      "execution_count": 2,
      "outputs": [
        {
          "output_type": "stream",
          "name": "stderr",
          "text": [
            "[nltk_data] Downloading package punkt to /root/nltk_data...\n",
            "[nltk_data]   Unzipping tokenizers/punkt.zip.\n",
            "[nltk_data] Downloading package stopwords to /root/nltk_data...\n",
            "[nltk_data]   Unzipping corpora/stopwords.zip.\n"
          ]
        },
        {
          "output_type": "execute_result",
          "data": {
            "text/plain": [
              "True"
            ]
          },
          "metadata": {},
          "execution_count": 2
        }
      ]
    },
    {
      "cell_type": "code",
      "source": [
        "def fetch_page(url):\n",
        "    try:\n",
        "        response = requests.get(url)\n",
        "        response.raise_for_status()\n",
        "        return response.text\n",
        "    except requests.exceptions.RequestException as e:\n",
        "        print(f\"Error fetching {url}: {e}\")\n",
        "        return None"
      ],
      "metadata": {
        "id": "-CmPfI20IzY3"
      },
      "execution_count": 3,
      "outputs": []
    },
    {
      "cell_type": "code",
      "source": [
        "# Beautiful soup function intilisization\n",
        "def create_soup(html):\n",
        "    return BeautifulSoup(html, 'html.parser')"
      ],
      "metadata": {
        "id": "TGWRSunSI2fw"
      },
      "execution_count": 4,
      "outputs": []
    },
    {
      "cell_type": "code",
      "source": [
        "# Polite parsing with robots.txt\n",
        "def is_allowed(url, user_agent=\"*\"):\n",
        "    try:\n",
        "        robots_url = urljoin(url, '/robots.txt')\n",
        "        response = requests.get(robots_url)\n",
        "        response.raise_for_status()\n",
        "        rules = response.text\n",
        "\n",
        "        rp = RobotExclusionRulesParser() # parser object\n",
        "        rp.parse(rules)\n",
        "\n",
        "        return rp.is_allowed(user_agent, url)\n",
        "    except Exception as e:\n",
        "        print(f\"Error checking for robots.txt: {e}\")\n",
        "        return False"
      ],
      "metadata": {
        "id": "sI4FT0i8UD4r"
      },
      "execution_count": 5,
      "outputs": []
    },
    {
      "cell_type": "code",
      "source": [
        "# Crawlinng and extravting relevant info\n",
        "def crawl_extract(soup):\n",
        "    list_results = soup.find('ul', class_='list-results')\n",
        "    if list_results:\n",
        "        list_elements = list_results.find_all(\"li\", class_=lambda x: x.startswith('list-result-item list-result-item')) #list of all the publications on the webpage\n",
        "        publications = []\n",
        "        for list_element in list_elements:\n",
        "            title_element = list_element.find(class_=\"title\") # title of the publication\n",
        "            title = title_element.text.strip()\n",
        "            linkjournal = list_element.find('a')\n",
        "            link = linkjournal['href']\n",
        "            listperson = list_element.findAll('a', class_='link person')\n",
        "            authors = []\n",
        "            profiles = []\n",
        "            for listper in listperson:\n",
        "                author = listper.string\n",
        "                authprofile = listper.get('href')\n",
        "                authors.append(author)\n",
        "                profiles.append(authprofile)\n",
        "\n",
        "            pub_date_element = list_element.find('span', class_='date')\n",
        "            pub_date = pub_date_element.text.strip()\n",
        "\n",
        "            publications.append({'title': title, 'link': link, 'authors': authors, 'profiles': profiles, 'publication_date': pub_date})\n",
        "\n",
        "        return publications\n",
        "    else:\n",
        "        return []"
      ],
      "metadata": {
        "id": "mmHgj8STUvhO"
      },
      "execution_count": 6,
      "outputs": []
    },
    {
      "cell_type": "code",
      "source": [
        "# Crawling all the web page with pagination and return publications\n",
        "def crawl_pages(start_url, max_pages=10):\n",
        "    if not is_allowed(start_url):\n",
        "        print(f\"Crawling is not allowed for: {start_url}\")\n",
        "        return None\n",
        "\n",
        "    list_publications = []\n",
        "    page = 0\n",
        "    while page <= max_pages:\n",
        "        url = f\"{start_url}?page={page}\"\n",
        "        html = fetch_page(url)\n",
        "        if not html:\n",
        "            break\n",
        "        soup = create_soup(html)\n",
        "\n",
        "        publications = crawl_extract(soup)\n",
        "        list_publications.extend(publications)\n",
        "\n",
        "        # Check for the next page of the website\n",
        "        next_page = soup.find('a', class_='next')\n",
        "        if not next_page:\n",
        "            break\n",
        "        page += 1\n",
        "        time.sleep(5)\n",
        "\n",
        "    return list_publications\n",
        "\n",
        "if __name__ == \"__main__\":\n",
        "\n",
        "    start_url = \"https://pureportal.coventry.ac.uk/en/organisations/centre-global-learning/publications/\" #Url to start the crawling for CGL\n",
        "    list_publications = crawl_pages(start_url, max_pages=10)\n",
        "    df = pd.DataFrame(list_publications)"
      ],
      "metadata": {
        "id": "bfRqOh_s-EvT"
      },
      "execution_count": 7,
      "outputs": []
    },
    {
      "cell_type": "code",
      "source": [
        "df.head()"
      ],
      "metadata": {
        "colab": {
          "base_uri": "https://localhost:8080/",
          "height": 206
        },
        "id": "eSripgHUZJnh",
        "outputId": "e16efdd5-9b8a-4f0b-baaa-497006e7e989"
      },
      "execution_count": 8,
      "outputs": [
        {
          "output_type": "execute_result",
          "data": {
            "text/plain": [
              "                                               title  \\\n",
              "0  A revisit to the role of gender in moderating ...   \n",
              "1                                  Becoming Nigerian   \n",
              "2  Between sameness and difference: challenges fo...   \n",
              "3  Coming out of the shadows: Investing in Englis...   \n",
              "4                                           Foreword   \n",
              "\n",
              "                                                link  \\\n",
              "0  https://pureportal.coventry.ac.uk/en/publicati...   \n",
              "1  https://pureportal.coventry.ac.uk/en/publicati...   \n",
              "2  https://pureportal.coventry.ac.uk/en/publicati...   \n",
              "3  https://pureportal.coventry.ac.uk/en/publicati...   \n",
              "4  https://pureportal.coventry.ac.uk/en/publicati...   \n",
              "\n",
              "                        authors  \\\n",
              "0    [Ayoubi, R., Crawford, M.]   \n",
              "1  [Johnson, E., Ezeonyeka, G.]   \n",
              "2        [Dang, Q., Morini, L.]   \n",
              "3                 [Karakus, M.]   \n",
              "4            [Orsini-Jones, M.]   \n",
              "\n",
              "                                            profiles publication_date  \n",
              "0  [https://pureportal.coventry.ac.uk/en/persons/...      21 May 2023  \n",
              "1  [https://pureportal.coventry.ac.uk/en/persons/...      25 Mar 2023  \n",
              "2  [https://pureportal.coventry.ac.uk/en/persons/...      11 Mar 2023  \n",
              "3  [https://pureportal.coventry.ac.uk/en/persons/...      29 May 2023  \n",
              "4  [https://pureportal.coventry.ac.uk/en/persons/...       1 May 2023  "
            ],
            "text/html": [
              "\n",
              "\n",
              "  <div id=\"df-0a20b12d-0a26-4aa9-9204-2d6c02630a66\">\n",
              "    <div class=\"colab-df-container\">\n",
              "      <div>\n",
              "<style scoped>\n",
              "    .dataframe tbody tr th:only-of-type {\n",
              "        vertical-align: middle;\n",
              "    }\n",
              "\n",
              "    .dataframe tbody tr th {\n",
              "        vertical-align: top;\n",
              "    }\n",
              "\n",
              "    .dataframe thead th {\n",
              "        text-align: right;\n",
              "    }\n",
              "</style>\n",
              "<table border=\"1\" class=\"dataframe\">\n",
              "  <thead>\n",
              "    <tr style=\"text-align: right;\">\n",
              "      <th></th>\n",
              "      <th>title</th>\n",
              "      <th>link</th>\n",
              "      <th>authors</th>\n",
              "      <th>profiles</th>\n",
              "      <th>publication_date</th>\n",
              "    </tr>\n",
              "  </thead>\n",
              "  <tbody>\n",
              "    <tr>\n",
              "      <th>0</th>\n",
              "      <td>A revisit to the role of gender in moderating ...</td>\n",
              "      <td>https://pureportal.coventry.ac.uk/en/publicati...</td>\n",
              "      <td>[Ayoubi, R., Crawford, M.]</td>\n",
              "      <td>[https://pureportal.coventry.ac.uk/en/persons/...</td>\n",
              "      <td>21 May 2023</td>\n",
              "    </tr>\n",
              "    <tr>\n",
              "      <th>1</th>\n",
              "      <td>Becoming Nigerian</td>\n",
              "      <td>https://pureportal.coventry.ac.uk/en/publicati...</td>\n",
              "      <td>[Johnson, E., Ezeonyeka, G.]</td>\n",
              "      <td>[https://pureportal.coventry.ac.uk/en/persons/...</td>\n",
              "      <td>25 Mar 2023</td>\n",
              "    </tr>\n",
              "    <tr>\n",
              "      <th>2</th>\n",
              "      <td>Between sameness and difference: challenges fo...</td>\n",
              "      <td>https://pureportal.coventry.ac.uk/en/publicati...</td>\n",
              "      <td>[Dang, Q., Morini, L.]</td>\n",
              "      <td>[https://pureportal.coventry.ac.uk/en/persons/...</td>\n",
              "      <td>11 Mar 2023</td>\n",
              "    </tr>\n",
              "    <tr>\n",
              "      <th>3</th>\n",
              "      <td>Coming out of the shadows: Investing in Englis...</td>\n",
              "      <td>https://pureportal.coventry.ac.uk/en/publicati...</td>\n",
              "      <td>[Karakus, M.]</td>\n",
              "      <td>[https://pureportal.coventry.ac.uk/en/persons/...</td>\n",
              "      <td>29 May 2023</td>\n",
              "    </tr>\n",
              "    <tr>\n",
              "      <th>4</th>\n",
              "      <td>Foreword</td>\n",
              "      <td>https://pureportal.coventry.ac.uk/en/publicati...</td>\n",
              "      <td>[Orsini-Jones, M.]</td>\n",
              "      <td>[https://pureportal.coventry.ac.uk/en/persons/...</td>\n",
              "      <td>1 May 2023</td>\n",
              "    </tr>\n",
              "  </tbody>\n",
              "</table>\n",
              "</div>\n",
              "      <button class=\"colab-df-convert\" onclick=\"convertToInteractive('df-0a20b12d-0a26-4aa9-9204-2d6c02630a66')\"\n",
              "              title=\"Convert this dataframe to an interactive table.\"\n",
              "              style=\"display:none;\">\n",
              "\n",
              "  <svg xmlns=\"http://www.w3.org/2000/svg\" height=\"24px\"viewBox=\"0 0 24 24\"\n",
              "       width=\"24px\">\n",
              "    <path d=\"M0 0h24v24H0V0z\" fill=\"none\"/>\n",
              "    <path d=\"M18.56 5.44l.94 2.06.94-2.06 2.06-.94-2.06-.94-.94-2.06-.94 2.06-2.06.94zm-11 1L8.5 8.5l.94-2.06 2.06-.94-2.06-.94L8.5 2.5l-.94 2.06-2.06.94zm10 10l.94 2.06.94-2.06 2.06-.94-2.06-.94-.94-2.06-.94 2.06-2.06.94z\"/><path d=\"M17.41 7.96l-1.37-1.37c-.4-.4-.92-.59-1.43-.59-.52 0-1.04.2-1.43.59L10.3 9.45l-7.72 7.72c-.78.78-.78 2.05 0 2.83L4 21.41c.39.39.9.59 1.41.59.51 0 1.02-.2 1.41-.59l7.78-7.78 2.81-2.81c.8-.78.8-2.07 0-2.86zM5.41 20L4 18.59l7.72-7.72 1.47 1.35L5.41 20z\"/>\n",
              "  </svg>\n",
              "      </button>\n",
              "\n",
              "\n",
              "\n",
              "    <div id=\"df-b0a34bab-d650-4b5a-8afa-7f4cf08ead59\">\n",
              "      <button class=\"colab-df-quickchart\" onclick=\"quickchart('df-b0a34bab-d650-4b5a-8afa-7f4cf08ead59')\"\n",
              "              title=\"Suggest charts.\"\n",
              "              style=\"display:none;\">\n",
              "\n",
              "<svg xmlns=\"http://www.w3.org/2000/svg\" height=\"24px\"viewBox=\"0 0 24 24\"\n",
              "     width=\"24px\">\n",
              "    <g>\n",
              "        <path d=\"M19 3H5c-1.1 0-2 .9-2 2v14c0 1.1.9 2 2 2h14c1.1 0 2-.9 2-2V5c0-1.1-.9-2-2-2zM9 17H7v-7h2v7zm4 0h-2V7h2v10zm4 0h-2v-4h2v4z\"/>\n",
              "    </g>\n",
              "</svg>\n",
              "      </button>\n",
              "    </div>\n",
              "\n",
              "<style>\n",
              "  .colab-df-quickchart {\n",
              "    background-color: #E8F0FE;\n",
              "    border: none;\n",
              "    border-radius: 50%;\n",
              "    cursor: pointer;\n",
              "    display: none;\n",
              "    fill: #1967D2;\n",
              "    height: 32px;\n",
              "    padding: 0 0 0 0;\n",
              "    width: 32px;\n",
              "  }\n",
              "\n",
              "  .colab-df-quickchart:hover {\n",
              "    background-color: #E2EBFA;\n",
              "    box-shadow: 0px 1px 2px rgba(60, 64, 67, 0.3), 0px 1px 3px 1px rgba(60, 64, 67, 0.15);\n",
              "    fill: #174EA6;\n",
              "  }\n",
              "\n",
              "  [theme=dark] .colab-df-quickchart {\n",
              "    background-color: #3B4455;\n",
              "    fill: #D2E3FC;\n",
              "  }\n",
              "\n",
              "  [theme=dark] .colab-df-quickchart:hover {\n",
              "    background-color: #434B5C;\n",
              "    box-shadow: 0px 1px 3px 1px rgba(0, 0, 0, 0.15);\n",
              "    filter: drop-shadow(0px 1px 2px rgba(0, 0, 0, 0.3));\n",
              "    fill: #FFFFFF;\n",
              "  }\n",
              "</style>\n",
              "\n",
              "    <script>\n",
              "      async function quickchart(key) {\n",
              "        const containerElement = document.querySelector('#' + key);\n",
              "        const charts = await google.colab.kernel.invokeFunction(\n",
              "            'suggestCharts', [key], {});\n",
              "      }\n",
              "    </script>\n",
              "\n",
              "      <script>\n",
              "\n",
              "function displayQuickchartButton(domScope) {\n",
              "  let quickchartButtonEl =\n",
              "    domScope.querySelector('#df-b0a34bab-d650-4b5a-8afa-7f4cf08ead59 button.colab-df-quickchart');\n",
              "  quickchartButtonEl.style.display =\n",
              "    google.colab.kernel.accessAllowed ? 'block' : 'none';\n",
              "}\n",
              "\n",
              "        displayQuickchartButton(document);\n",
              "      </script>\n",
              "      <style>\n",
              "    .colab-df-container {\n",
              "      display:flex;\n",
              "      flex-wrap:wrap;\n",
              "      gap: 12px;\n",
              "    }\n",
              "\n",
              "    .colab-df-convert {\n",
              "      background-color: #E8F0FE;\n",
              "      border: none;\n",
              "      border-radius: 50%;\n",
              "      cursor: pointer;\n",
              "      display: none;\n",
              "      fill: #1967D2;\n",
              "      height: 32px;\n",
              "      padding: 0 0 0 0;\n",
              "      width: 32px;\n",
              "    }\n",
              "\n",
              "    .colab-df-convert:hover {\n",
              "      background-color: #E2EBFA;\n",
              "      box-shadow: 0px 1px 2px rgba(60, 64, 67, 0.3), 0px 1px 3px 1px rgba(60, 64, 67, 0.15);\n",
              "      fill: #174EA6;\n",
              "    }\n",
              "\n",
              "    [theme=dark] .colab-df-convert {\n",
              "      background-color: #3B4455;\n",
              "      fill: #D2E3FC;\n",
              "    }\n",
              "\n",
              "    [theme=dark] .colab-df-convert:hover {\n",
              "      background-color: #434B5C;\n",
              "      box-shadow: 0px 1px 3px 1px rgba(0, 0, 0, 0.15);\n",
              "      filter: drop-shadow(0px 1px 2px rgba(0, 0, 0, 0.3));\n",
              "      fill: #FFFFFF;\n",
              "    }\n",
              "  </style>\n",
              "\n",
              "      <script>\n",
              "        const buttonEl =\n",
              "          document.querySelector('#df-0a20b12d-0a26-4aa9-9204-2d6c02630a66 button.colab-df-convert');\n",
              "        buttonEl.style.display =\n",
              "          google.colab.kernel.accessAllowed ? 'block' : 'none';\n",
              "\n",
              "        async function convertToInteractive(key) {\n",
              "          const element = document.querySelector('#df-0a20b12d-0a26-4aa9-9204-2d6c02630a66');\n",
              "          const dataTable =\n",
              "            await google.colab.kernel.invokeFunction('convertToInteractive',\n",
              "                                                     [key], {});\n",
              "          if (!dataTable) return;\n",
              "\n",
              "          const docLinkHtml = 'Like what you see? Visit the ' +\n",
              "            '<a target=\"_blank\" href=https://colab.research.google.com/notebooks/data_table.ipynb>data table notebook</a>'\n",
              "            + ' to learn more about interactive tables.';\n",
              "          element.innerHTML = '';\n",
              "          dataTable['output_type'] = 'display_data';\n",
              "          await google.colab.output.renderOutput(dataTable, element);\n",
              "          const docLink = document.createElement('div');\n",
              "          docLink.innerHTML = docLinkHtml;\n",
              "          element.appendChild(docLink);\n",
              "        }\n",
              "      </script>\n",
              "    </div>\n",
              "  </div>\n"
            ]
          },
          "metadata": {},
          "execution_count": 8
        }
      ]
    },
    {
      "cell_type": "code",
      "source": [
        "df['title'] = df['title'].str.lower()\n",
        "df['authors'] = df['authors'].apply(lambda x: [author.lower() for author in x])"
      ],
      "metadata": {
        "id": "s72IFj_LZP9h"
      },
      "execution_count": 9,
      "outputs": []
    },
    {
      "cell_type": "code",
      "source": [
        "# Preprocess text\n",
        "def clean_text(text):\n",
        "    text = text.lower()\n",
        "    words = word_tokenize(text)\n",
        "    table = str.maketrans('', '', string.punctuation) # Removing punctuation\n",
        "    words = [word.translate(table) for word in words if word.isalnum()]\n",
        "    stop_words = set(stopwords.words('english')) # Stop words removal\n",
        "    words = [word for word in words if word not in stop_words]\n",
        "    stemmer = PorterStemmer() # stemming to get the room word\n",
        "    words = [stemmer.stem(word) for word in words]\n",
        "    cleaned_text = ' '.join(words)\n",
        "    return cleaned_text"
      ],
      "metadata": {
        "id": "Y8YHZDcyZik0"
      },
      "execution_count": 12,
      "outputs": []
    },
    {
      "cell_type": "code",
      "source": [
        "inverted_index = {}\n",
        "# Function to add document index\n",
        "def add_doc_to_inverted_index(term, doc_index):\n",
        "    if term not in inverted_index:\n",
        "        inverted_index[term] = []\n",
        "    if doc_index not in inverted_index[term]:\n",
        "        inverted_index[term].append(doc_index)\n",
        "\n",
        "# Index by title\n",
        "for idx, row in df.iterrows():\n",
        "    title_text = row['title']\n",
        "    cleaned_title = clean_text(title_text)\n",
        "    words = re.findall(r'\\w+', cleaned_title)\n",
        "    # title with index\n",
        "    for word in words:\n",
        "        add_doc_to_inverted_index(word, idx)\n",
        "\n",
        "# Index by authors\n",
        "for idx, row in df.iterrows():\n",
        "    authors_list = row['authors']\n",
        "    preprocessed_authors = [clean_text(author) for author in authors_list]\n",
        "    for author_text in preprocessed_authors:\n",
        "        words = re.findall(r'\\w+', author_text)\n",
        "        # author with index\n",
        "        for word in words:\n",
        "            add_doc_to_inverted_index(word, idx)\n"
      ],
      "metadata": {
        "id": "MCuh07W5aC1v"
      },
      "execution_count": 13,
      "outputs": []
    },
    {
      "cell_type": "code",
      "source": [
        "# Process user Query\n",
        "def user_query(query):\n",
        "    preprocessed_query = clean_text(query)\n",
        "    query_words = re.findall(r'\\w+', preprocessed_query)\n",
        "\n",
        "    # Find a match in documents\n",
        "    match_documents = None\n",
        "    for word in query_words:\n",
        "        if word in inverted_index:\n",
        "            doc_index = inverted_index[word]\n",
        "            if match_documents is None:\n",
        "                match_documents = set(doc_index)\n",
        "            else:\n",
        "                match_documents.intersection_update(doc_index)\n",
        "\n",
        "    if match_documents:\n",
        "        matching_publications = df.iloc[list(match_documents)]\n",
        "    else:\n",
        "        matching_publications = pd.DataFrame()\n",
        "\n",
        "    return matching_publications"
      ],
      "metadata": {
        "id": "tHf5VVtqcR6s"
      },
      "execution_count": 14,
      "outputs": []
    },
    {
      "cell_type": "code",
      "source": [
        "# Searcg User Input Query\n",
        "query = input(\"Enter search query: \")\n",
        "\n",
        "# Process the query and retrieve matching documents\n",
        "matching_publications = user_query(query)\n",
        "\n",
        "if not matching_publications.empty:\n",
        "    print(\"Matched Publications:\")\n",
        "    print(matching_publications)\n",
        "else:\n",
        "    print(\"No publications found.\")"
      ],
      "metadata": {
        "colab": {
          "base_uri": "https://localhost:8080/"
        },
        "id": "j8uYgxRq-tnT",
        "outputId": "ab612dd3-3e28-43bc-ad55-cfdea0f75dc8"
      },
      "execution_count": 15,
      "outputs": [
        {
          "output_type": "stream",
          "name": "stdout",
          "text": [
            "Enter search query: Karakus\n",
            "Matched Publications:\n",
            "                                                title  \\\n",
            "3   coming out of the shadows: investing in englis...   \n",
            "9   measuring student well-being in adolescence: p...   \n",
            "11  obituary for zoltán dörnyei (1960–2022): a bib...   \n",
            "16  the role of teacher selection criteria and pre...   \n",
            "17  throwing light on fee-charging tutoring during...   \n",
            "18  transformational school leadership: a systemat...   \n",
            "19  understanding the academic achievement of the ...   \n",
            "22  a bibliometric mapping of shadow education res...   \n",
            "\n",
            "                                                 link        authors  \\\n",
            "3   https://pureportal.coventry.ac.uk/en/publicati...  [karakus, m.]   \n",
            "9   https://pureportal.coventry.ac.uk/en/publicati...  [karakus, m.]   \n",
            "11  https://pureportal.coventry.ac.uk/en/publicati...  [karakus, m.]   \n",
            "16  https://pureportal.coventry.ac.uk/en/publicati...  [karakus, m.]   \n",
            "17  https://pureportal.coventry.ac.uk/en/publicati...  [karakus, m.]   \n",
            "18  https://pureportal.coventry.ac.uk/en/publicati...  [karakus, m.]   \n",
            "19  https://pureportal.coventry.ac.uk/en/publicati...  [karakus, m.]   \n",
            "22  https://pureportal.coventry.ac.uk/en/publicati...  [karakus, m.]   \n",
            "\n",
            "                                             profiles publication_date  \n",
            "3   [https://pureportal.coventry.ac.uk/en/persons/...      29 May 2023  \n",
            "9   [https://pureportal.coventry.ac.uk/en/persons/...       3 Jun 2023  \n",
            "11  [https://pureportal.coventry.ac.uk/en/persons/...       5 Jul 2023  \n",
            "16  [https://pureportal.coventry.ac.uk/en/persons/...      27 May 2023  \n",
            "17  [https://pureportal.coventry.ac.uk/en/persons/...      26 Feb 2023  \n",
            "18  [https://pureportal.coventry.ac.uk/en/persons/...      23 Jun 2023  \n",
            "19  [https://pureportal.coventry.ac.uk/en/persons/...         May 2023  \n",
            "22  [https://pureportal.coventry.ac.uk/en/persons/...         Jun 2022  \n"
          ]
        }
      ]
    },
    {
      "cell_type": "code",
      "source": [],
      "metadata": {
        "id": "mC9aUGNZ_NKs"
      },
      "execution_count": null,
      "outputs": []
    }
  ]
}